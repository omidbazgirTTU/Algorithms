{
 "cells": [
  {
   "cell_type": "markdown",
   "metadata": {},
   "source": [
    "# Greedy Algorithm\n",
    "## Car Feuling\n",
    "Consider someone is planning to travel from Point $A$ to Point $B$, and if he travels more than $L$ distance unit, he will ran out of gas. Given the vecotr $x$, containing the locations that one can refill the tank, what is the minimum number of refilling time? \n",
    "$ A = x_{0} < x_{1} < x_{2} < ...< x_{n}< x_{n+1} = B $ "
   ]
  },
  {
   "cell_type": "code",
   "execution_count": 3,
   "metadata": {},
   "outputs": [],
   "source": [
    "def MinRefill(x,n,L):\n",
    "    NumberRefill = 0; CurrentRefill = 0\n",
    "    while(CurrentRefill <= n):\n",
    "        LastRefill = CurrentRefill\n",
    "        while(CurrentRefill <= n and (x[CurrentRefill + 1] - x[LastRefill]) <= L):\n",
    "            CurrentRefill += 1\n",
    "            if LastRefill == CurrentRefill:\n",
    "                return \"IMPOSSIBLE\"\n",
    "            elif CurrentRefill <= n:\n",
    "                NumberRefill += 1\n",
    "    return NumberRefill"
   ]
  },
  {
   "cell_type": "markdown",
   "metadata": {},
   "source": [
    "## Grouping children\n",
    "Consider a group of children playing together in a child care. We want to group them together in a way that the age difference between any two child per group won't be more than a year. Assume : $x_{0} < x_{1} < x_{2} < ...< x_{n}< x_{n+1}$"
   ]
  },
  {
   "cell_type": "code",
   "execution_count": 4,
   "metadata": {},
   "outputs": [],
   "source": [
    "def GroupChild(X):\n",
    "    X = X.sort()\n",
    "    n = len(X)\n",
    "    R = []\n",
    "    i = 0\n",
    "    while(i < n):\n",
    "        [l,r] = [X[i], X[i+1]]\n",
    "        R = list(set(R) | set([l,r])) \n",
    "        i =+ 1 \n",
    "        while (i<=n and X[i] < r):\n",
    "            i+=1\n",
    "    return R"
   ]
  },
  {
   "cell_type": "markdown",
   "metadata": {},
   "source": [
    "## Knapsack\n",
    "Consider a knapsack that contains W kilograms of objects. We need to fill this knapsack with most valuable items for a hiking. We have tha values of the items, and their weights. What is optimum way to fill the knapsack?"
   ]
  },
  {
   "cell_type": "code",
   "execution_count": 41,
   "metadata": {},
   "outputs": [],
   "source": [
    "def knapsack(W_k, W, V):\n",
    "    #price = V/W\n",
    "    V_k = 0\n",
    "    A = [None] * len(V)\n",
    "    i = 0\n",
    "    while(i < len(V)):\n",
    "        if W_k == 0:\n",
    "            return A,V_k\n",
    "        else:\n",
    "            coef = W_k/W[i]\n",
    "            a = min(W_k,W[i])\n",
    "            V_k = V_k + (a/W[i])*V[i]\n",
    "            W_k = W_k - a\n",
    "            A[i] = a\n",
    "            i +=1\n",
    "    return A, V_k\n",
    "    "
   ]
  },
  {
   "cell_type": "code",
   "execution_count": 42,
   "metadata": {},
   "outputs": [],
   "source": [
    "W_k = 10\n",
    "W = [4,5,20]; V= [20,10,20]"
   ]
  },
  {
   "cell_type": "code",
   "execution_count": 43,
   "metadata": {},
   "outputs": [
    {
     "data": {
      "text/plain": [
       "([4, 5, 1], 31.0)"
      ]
     },
     "execution_count": 43,
     "metadata": {},
     "output_type": "execute_result"
    }
   ],
   "source": [
    "knapsack(W_k, W, V)"
   ]
  }
 ],
 "metadata": {
  "kernelspec": {
   "display_name": "Python 3",
   "language": "python",
   "name": "python3"
  },
  "language_info": {
   "codemirror_mode": {
    "name": "ipython",
    "version": 3
   },
   "file_extension": ".py",
   "mimetype": "text/x-python",
   "name": "python",
   "nbconvert_exporter": "python",
   "pygments_lexer": "ipython3",
   "version": "3.7.1"
  }
 },
 "nbformat": 4,
 "nbformat_minor": 4
}
