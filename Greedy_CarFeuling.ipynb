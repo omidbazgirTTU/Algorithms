{
 "cells": [
  {
   "cell_type": "markdown",
   "metadata": {},
   "source": [
    "# Greedy Algorithm\n",
    "## Car Feuling\n",
    "Consider someone is planning to travel from Point $A$ to Point $B$, and if he travels more than $L$ distance unit, he will ran out of gas. Given the vecotr $x$, containing the locations that one can refill the tank, what is the minimum number of refilling time? \n",
    "$ A = x_{0} < x_{1} < x_{2} < ...< x_{n}< x_{n+1} = B $ "
   ]
  },
  {
   "cell_type": "code",
   "execution_count": 3,
   "metadata": {},
   "outputs": [],
   "source": [
    "def MinRefill(x,n,L):\n",
    "    NumberRefill = 0; CurrentRefill = 0\n",
    "    while(CurrentRefill <= n):\n",
    "        LastRefill = CurrentRefill\n",
    "        while(CurrentRefill <= n and (x[CurrentRefill + 1] - x[LastRefill]) <= L):\n",
    "            CurrentRefill += 1\n",
    "            if LastRefill == CurrentRefill:\n",
    "                return \"IMPOSSIBLE\"\n",
    "            elif CurrentRefill <= n:\n",
    "                NumberRefill += 1\n",
    "    return NumberRefill"
   ]
  }
 ],
 "metadata": {
  "kernelspec": {
   "display_name": "Python 3",
   "language": "python",
   "name": "python3"
  },
  "language_info": {
   "codemirror_mode": {
    "name": "ipython",
    "version": 3
   },
   "file_extension": ".py",
   "mimetype": "text/x-python",
   "name": "python",
   "nbconvert_exporter": "python",
   "pygments_lexer": "ipython3",
   "version": "3.7.1"
  }
 },
 "nbformat": 4,
 "nbformat_minor": 4
}
