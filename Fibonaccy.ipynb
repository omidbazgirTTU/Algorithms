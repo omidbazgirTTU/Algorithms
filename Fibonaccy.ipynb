{
 "cells": [
  {
   "cell_type": "markdown",
   "metadata": {},
   "source": [
    "# Recursive Fibonacci\n",
    "Here I write the Fibonnaci code in a recursive manner which is very time consuming! and memory in-efficient!"
   ]
  },
  {
   "cell_type": "code",
   "execution_count": 1,
   "metadata": {},
   "outputs": [],
   "source": [
    "def Fibonacci_Rec(n):\n",
    "    if n <=1:\n",
    "        return n\n",
    "    else:\n",
    "        return Fibonacci_Rec(n-1) + Fibonacci_Rec(n-2)"
   ]
  },
  {
   "cell_type": "code",
   "execution_count": 14,
   "metadata": {},
   "outputs": [
    {
     "name": "stdout",
     "output_type": "stream",
     "text": [
      "832040\n",
      "Time elapsed:  0.2645752429962158\n"
     ]
    }
   ],
   "source": [
    "# Test Fibonnaci recursive\n",
    "import time\n",
    "t1 = time.time()\n",
    "print(Fibonacci_Rec(30))\n",
    "t2 = time.time()\n",
    "print(\"Time elapsed: \", t2 - t1)"
   ]
  },
  {
   "cell_type": "markdown",
   "metadata": {},
   "source": [
    "# Efficient Fibonacci\n",
    "Here I write the Fibonacci sequence in an efficient manner to save time and memory!"
   ]
  },
  {
   "cell_type": "code",
   "execution_count": 24,
   "metadata": {},
   "outputs": [],
   "source": [
    "def Fibonacci(n):\n",
    "    Fib = []\n",
    "    Fib.append(0)\n",
    "    Fib.append(1)\n",
    "    if n <= 1:\n",
    "        return n\n",
    "    else:\n",
    "        for i in range(2,n+1):\n",
    "            Fib.append(Fib[i-2] + Fib[i-1]) \n",
    "        return Fib[n]"
   ]
  },
  {
   "cell_type": "code",
   "execution_count": 26,
   "metadata": {},
   "outputs": [
    {
     "name": "stdout",
     "output_type": "stream",
     "text": [
      "832040\n",
      "Time elapsed:  0.0009968280792236328\n"
     ]
    }
   ],
   "source": [
    "# Test Fibonnaci Efficient\n",
    "t1 = time.time()\n",
    "print(Fibonacci(30))\n",
    "t2 = time.time()\n",
    "print(\"Time elapsed: \", t2 - t1)"
   ]
  }
 ],
 "metadata": {
  "kernelspec": {
   "display_name": "Python 3",
   "language": "python",
   "name": "python3"
  },
  "language_info": {
   "codemirror_mode": {
    "name": "ipython",
    "version": 3
   },
   "file_extension": ".py",
   "mimetype": "text/x-python",
   "name": "python",
   "nbconvert_exporter": "python",
   "pygments_lexer": "ipython3",
   "version": "3.7.1"
  }
 },
 "nbformat": 4,
 "nbformat_minor": 4
}
