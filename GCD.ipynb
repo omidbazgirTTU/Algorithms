{
 "cells": [
  {
   "cell_type": "markdown",
   "metadata": {},
   "source": [
    "# Greatest Common Divisor\n",
    "At this step I try to compute the GCD using the definition of the GCD in a naive manner. Then I will compute that, using more efficient manner."
   ]
  },
  {
   "cell_type": "code",
   "execution_count": 31,
   "metadata": {},
   "outputs": [],
   "source": [
    "def GCD_Naive(a,b):\n",
    "    GCD = 0\n",
    "    for d in range(1,a+b):\n",
    "        if a%d == 0 and b%d ==0:\n",
    "            GCD = d\n",
    "    return GCD"
   ]
  },
  {
   "cell_type": "code",
   "execution_count": 44,
   "metadata": {},
   "outputs": [
    {
     "name": "stdout",
     "output_type": "stream",
     "text": [
      "200\n",
      "0.0009696483612060547 Elapsed time for the Naive code\n"
     ]
    }
   ],
   "source": [
    "import time\n",
    "t1 = time.time()\n",
    "print(GCD_Naive(1000,400))\n",
    "t2 = time.time()\n",
    "print(t2-t1,\"Elapsed time for the Naive code\")"
   ]
  },
  {
   "cell_type": "markdown",
   "metadata": {},
   "source": [
    "## Efficient GCD\n",
    "Let a' be the remainder when a is divided by b, then:\n",
    "gcd(a,b) = gcd(a',b) = gcd(b,a')"
   ]
  },
  {
   "cell_type": "code",
   "execution_count": 42,
   "metadata": {},
   "outputs": [],
   "source": [
    "def GCD(a,b):\n",
    "    a_prime = 0\n",
    "    if min(a,b) == 0:\n",
    "        return 0\n",
    "    elif max(a,b)%min(a,b) ==0:\n",
    "        return(min(a,b))\n",
    "    else:\n",
    "        a_prime = max(a,b)%min(a,b)\n",
    "        return GCD(a_prime, min(a,b))  "
   ]
  },
  {
   "cell_type": "code",
   "execution_count": 45,
   "metadata": {},
   "outputs": [
    {
     "name": "stdout",
     "output_type": "stream",
     "text": [
      "200\n",
      "0.0 Elapsed time for the Naive code\n"
     ]
    }
   ],
   "source": [
    "t1 = time.time()\n",
    "print(GCD(1000,400))\n",
    "t2 = time.time()\n",
    "print(t2-t1,\"Elapsed time for the Naive code\")"
   ]
  }
 ],
 "metadata": {
  "kernelspec": {
   "display_name": "Python 3",
   "language": "python",
   "name": "python3"
  },
  "language_info": {
   "codemirror_mode": {
    "name": "ipython",
    "version": 3
   },
   "file_extension": ".py",
   "mimetype": "text/x-python",
   "name": "python",
   "nbconvert_exporter": "python",
   "pygments_lexer": "ipython3",
   "version": "3.7.1"
  }
 },
 "nbformat": 4,
 "nbformat_minor": 4
}
