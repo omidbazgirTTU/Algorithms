{
 "cells": [
  {
   "cell_type": "markdown",
   "metadata": {},
   "source": [
    "# Search algorithms\n",
    "\n",
    "## Linear search and Binary search"
   ]
  },
  {
   "cell_type": "code",
   "execution_count": 9,
   "metadata": {},
   "outputs": [],
   "source": [
    "def LinearSearch(A,Key):\n",
    "    i = 0\n",
    "    Finder = \"Not found\"\n",
    "    while(i<len(A) and Finder == \"Not found\"):\n",
    "        if A[i]==Key:\n",
    "            Finder = i\n",
    "        i+=1\n",
    "    return Finder"
   ]
  },
  {
   "cell_type": "code",
   "execution_count": 18,
   "metadata": {},
   "outputs": [
    {
     "data": {
      "text/plain": [
       "4"
      ]
     },
     "execution_count": 18,
     "metadata": {},
     "output_type": "execute_result"
    }
   ],
   "source": [
    "A = [1,2,3,4,5,6]\n",
    "KEY = 5\n",
    "LinearSearch(A,KEY)"
   ]
  },
  {
   "cell_type": "code",
   "execution_count": 39,
   "metadata": {},
   "outputs": [],
   "source": [
    "def BinarySearch(A,key):\n",
    "    A = sorted(A)\n",
    "    low = 0\n",
    "    high = len(A)\n",
    "    Finder = \"Not found\"\n",
    "    while(low <= high):\n",
    "        med = int((high + low)/2)\n",
    "        if A[med] == key:\n",
    "            Finder =  med\n",
    "            return Finder\n",
    "        elif A[med] > key:\n",
    "            high = med - 1\n",
    "        else:\n",
    "            low = med + 1\n",
    "    return Finder"
   ]
  },
  {
   "cell_type": "code",
   "execution_count": 40,
   "metadata": {},
   "outputs": [
    {
     "data": {
      "text/plain": [
       "4"
      ]
     },
     "execution_count": 40,
     "metadata": {},
     "output_type": "execute_result"
    }
   ],
   "source": [
    "BinarySearch(A,KEY)"
   ]
  }
 ],
 "metadata": {
  "kernelspec": {
   "display_name": "Python 3",
   "language": "python",
   "name": "python3"
  },
  "language_info": {
   "codemirror_mode": {
    "name": "ipython",
    "version": 3
   },
   "file_extension": ".py",
   "mimetype": "text/x-python",
   "name": "python",
   "nbconvert_exporter": "python",
   "pygments_lexer": "ipython3",
   "version": "3.7.1"
  }
 },
 "nbformat": 4,
 "nbformat_minor": 4
}
